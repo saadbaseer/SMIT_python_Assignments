{
 "cells": [
  {
   "cell_type": "markdown",
   "id": "e97b70bc-85df-40a1-9537-f71e034ac634",
   "metadata": {},
   "source": [
    "## Write a Python program that:\n",
    "\n",
    "Accepts a comma-separated string of numbers from the user (e.g., \"1,2,3,4,5\").\n",
    "Typecasts the input string into a list of integers.\n",
    "Print the resulting list of integers.\n",
    "Example Input:\n",
    "\"10,20,30,40,50\" or \n",
    "[10, 20, 30, 40, 50]\n"
   ]
  },
  {
   "cell_type": "code",
   "execution_count": 19,
   "id": "ddead697-b887-460f-94c6-c17be97675aa",
   "metadata": {},
   "outputs": [
    {
     "name": "stdin",
     "output_type": "stream",
     "text": [
      "Enter comma-separated string of numbers  4,3,33,3,3\n"
     ]
    },
    {
     "name": "stdout",
     "output_type": "stream",
     "text": [
      "[4, 3, 33, 3, 3]\n"
     ]
    }
   ],
   "source": [
    "num=input(\"Enter comma-separated string of numbers \")\n",
    "numlist=num.split(\",\")\n",
    "numlist=list(map(int,numlist))\n",
    "print(numlist)"
   ]
  },
  {
   "cell_type": "markdown",
   "id": "6bd54ab7-060f-4207-a5ce-abc140e3c796",
   "metadata": {},
   "source": [
    "## Write a Python program that user to enter 5 different names (e.g., \"Alice, Bob, Charlie, David, Eve\").\n",
    "Stores these names in a list and prints the list.\n",
    "Then, ask the user for a number and print the name at that index of the list. \n",
    "\n",
    "Example Input\n",
    "\n",
    "\"Alice, Bob, Charlie, David, Eve\"\n",
    "Enter an index: 2\n",
    "\n",
    "\n",
    "Example Output:\n",
    "\n",
    "\n",
    "List: ['Alice', 'Bob', 'Charlie', 'David', 'Eve']\n",
    "Name at index 2: Charlie\n"
   ]
  },
  {
   "cell_type": "code",
   "execution_count": 34,
   "id": "a59a34a4-72cf-4b40-9131-702388e668ed",
   "metadata": {},
   "outputs": [
    {
     "name": "stdin",
     "output_type": "stream",
     "text": [
      "Enter the index b/w 0 to 4 1\n"
     ]
    },
    {
     "name": "stdout",
     "output_type": "stream",
     "text": [
      "Bob\n"
     ]
    }
   ],
   "source": [
    "names=[\"Alice\", \"Bob\", \"Charlie\", \"David\",\"Eve\"]\n",
    "index=int(input(\"Enter the index b/w 0 to 4\"))\n",
    "if index>=0 and index<=4:\n",
    "    print(names[index])\n",
    "else:\n",
    "    print(\"enter a number b/w 0 to 4\")"
   ]
  },
  {
   "cell_type": "markdown",
   "id": "b74c2e00-ed01-446f-af03-5e32ec46944f",
   "metadata": {},
   "source": [
    "## Write a Python program that takes an integer input from the user and checks whether the number is:\n",
    "\n",
    "* Positive\n",
    "\n",
    "* Negative\n",
    "\n",
    "* Zero"
   ]
  },
  {
   "cell_type": "code",
   "execution_count": 35,
   "id": "e6ee9b4c-0966-4bc9-8b3c-7a6d8c66e4e4",
   "metadata": {},
   "outputs": [
    {
     "name": "stdin",
     "output_type": "stream",
     "text": [
      "Enter a integer :  23232\n"
     ]
    },
    {
     "name": "stdout",
     "output_type": "stream",
     "text": [
      "Its Positive\n"
     ]
    }
   ],
   "source": [
    "num = int(input(\"Enter a integer : \"))\n",
    "if(num == 0):\n",
    "    print(\"Its Zero\")\n",
    "elif (num >0):\n",
    "    print(\"Its Positive\")\n",
    "else:\n",
    "    print(\"Its Negative\")"
   ]
  },
  {
   "cell_type": "markdown",
   "id": "a36e94fe-20e0-4227-abd8-cbd7ca532f51",
   "metadata": {},
   "source": [
    "## Create a Python program that takes a user's age as input and categorizes them into one of the following age groups:\n",
    "\n",
    "* Child (0-12)\n",
    "* Teen (13-19)\n",
    "* Adult (20-64)\n",
    "* Senior (65+)\n",
    "\n",
    "Print the corresponding category based on the user's age."
   ]
  },
  {
   "cell_type": "code",
   "execution_count": 43,
   "id": "0a58d305-0dc2-4363-a420-1cacdd4c2c0b",
   "metadata": {},
   "outputs": [
    {
     "name": "stdin",
     "output_type": "stream",
     "text": [
      "Enter your age :  323\n"
     ]
    },
    {
     "name": "stdout",
     "output_type": "stream",
     "text": [
      "You are not a Human being\n"
     ]
    }
   ],
   "source": [
    "age = int(input(\"Enter your age : \"))\n",
    "if(age>=0 and age<=12):\n",
    "    print(\"You are Child\")\n",
    "elif (age>=13 and age<=19):\n",
    "    print(\"You are Teen\")\n",
    "elif (age>=20 and age<=64):\n",
    "    print(\"You are Adult\")\n",
    "elif (age>=65 and age<=150):\n",
    "    print(\"You are Senior\")\n",
    "elif (age>150):\n",
    "    print(\"You are not a Human being\")\n",
    "\n",
    "else:\n",
    "    print(\"Enter Valid Age\")"
   ]
  },
  {
   "cell_type": "markdown",
   "id": "13fb3a6c-ba33-41ef-8b6f-85cd454cc909",
   "metadata": {},
   "source": [
    "## Write a program that asks the user for their name and age, and prints out a message such as: \"Hello [name], you are [age] years old."
   ]
  },
  {
   "cell_type": "code",
   "execution_count": 44,
   "id": "2ba6dab2-6064-450d-b44d-21a67f6767f6",
   "metadata": {},
   "outputs": [
    {
     "name": "stdin",
     "output_type": "stream",
     "text": [
      "Enter Your Name : 24234\n",
      "Enter Your Age 24\n"
     ]
    },
    {
     "name": "stdout",
     "output_type": "stream",
     "text": [
      "Hello 24234, you are 24 years old\n"
     ]
    }
   ],
   "source": [
    "name = input(\"Enter Your Name :\")\n",
    "age = int(input(\"Enter Your Age\"))\n",
    "print(f\"Hello {name}, you are {age} years old\")"
   ]
  },
  {
   "cell_type": "markdown",
   "id": "753e9996-d137-4577-b8d8-39c697ae51e5",
   "metadata": {},
   "source": [
    "## Write a Python program that demonstrates the use of arithmetic operators (+, -, *, /, %, //, **). Provide examples of each operator, such as:\n",
    "\n",
    "* Addition of two numbers.\n",
    "* Division of two numbers (including floor division).\n",
    "* Exponentiation (power).\n",
    "* Modulus to find the remainder"
   ]
  },
  {
   "cell_type": "code",
   "execution_count": 45,
   "id": "2d6f9ba8-b098-4598-b62d-8057ac6b1342",
   "metadata": {},
   "outputs": [
    {
     "name": "stdin",
     "output_type": "stream",
     "text": [
      "Enter First Number :  e3qw\n",
      "Enter Second Number :  34\n",
      "Enter Which operation you want to perform :  \n"
     ]
    },
    {
     "name": "stdout",
     "output_type": "stream",
     "text": [
      "Enter Valid!!!\n"
     ]
    },
    {
     "name": "stdin",
     "output_type": "stream",
     "text": [
      "Enter First Number :  3\n",
      "Enter Second Number :  4\n",
      "Enter Which operation you want to perform :  3\n"
     ]
    },
    {
     "name": "stdout",
     "output_type": "stream",
     "text": [
      "Enter Valid!!!\n"
     ]
    },
    {
     "name": "stdin",
     "output_type": "stream",
     "text": [
      "Enter First Number :  3\n",
      "Enter Second Number :  3\n",
      "Enter Which operation you want to perform :  4\n"
     ]
    },
    {
     "name": "stdout",
     "output_type": "stream",
     "text": [
      "Enter Valid!!!\n"
     ]
    },
    {
     "name": "stdin",
     "output_type": "stream",
     "text": [
      "Enter First Number :  3e\n",
      "Enter Second Number :  e\n"
     ]
    },
    {
     "name": "stdout",
     "output_type": "stream",
     "text": [
      "ThankYou For Using Calculator\n"
     ]
    }
   ],
   "source": [
    "while True:\n",
    "    n1 = input(\"Enter First Number : \")\n",
    "    if (n1 == \"e\"):\n",
    "        print(\"ThankYou For Using Calculator\")\n",
    "        break\n",
    "    n2 = input(\"Enter Second Number : \")\n",
    "    if (n2 == \"e\"):\n",
    "        print(\"ThankYou For Using Calculator\")\n",
    "        break\n",
    "    op = input(\"Enter Which operation you want to perform : \")\n",
    "    if (op == \"e\"):\n",
    "        print(\"ThankYou For Using Calculator\")\n",
    "        break\n",
    "    elif (op == \"+\"):\n",
    "        #Addition\n",
    "        print(int(n1)+int(n2))\n",
    "    elif (op == \"-\"):\n",
    "        #Subtraction\n",
    "        print(int(n1)-int(n2))\n",
    "    elif (op == \"*\"):\n",
    "        #Multiplication\n",
    "        print(int(n1)*int(n2))\n",
    "    elif (op == \"/\"):\n",
    "        #Float Diviion\n",
    "        print(int(n1)/int(n2))\n",
    "    elif (op == \"//\"):\n",
    "        #Floor Division\n",
    "        print(int(n1)//int(n2))\n",
    "    elif (op == \"**\"):\n",
    "        #Exponentition\n",
    "        print(int(n1)**int(n2))\n",
    "    elif (op == \"%\"):\n",
    "        #Modulus\n",
    "        print(int(n1)%int(n2))\n",
    "    else:\n",
    "        print(\"Enter Valid!!!\")"
   ]
  },
  {
   "cell_type": "markdown",
   "id": "1870c517-0e30-4bb0-a46a-8cbabc77e0c3",
   "metadata": {},
   "source": [
    "## Create a Program to Reverse a String"
   ]
  },
  {
   "cell_type": "code",
   "execution_count": 52,
   "id": "9c3e955a-d1c6-433e-a478-37cd1d9d0f6f",
   "metadata": {},
   "outputs": [
    {
     "name": "stdin",
     "output_type": "stream",
     "text": [
      "Enter a string DAAS\n"
     ]
    },
    {
     "name": "stdout",
     "output_type": "stream",
     "text": [
      "SAAD\n"
     ]
    }
   ],
   "source": [
    "string1=input(\"Enter a string\")\n",
    "print(string1[ : :-1])"
   ]
  },
  {
   "cell_type": "markdown",
   "id": "6f5a5402-580d-4ccc-98cf-96864dd0ee52",
   "metadata": {},
   "source": [
    "## Write a program that takes a list of numbers as input from the user and sorts the list in ascending order. Print the sorted list after the operation."
   ]
  },
  {
   "cell_type": "code",
   "execution_count": 72,
   "id": "397c58f7-3e1e-4eec-b864-b885d25d90cf",
   "metadata": {},
   "outputs": [
    {
     "name": "stdin",
     "output_type": "stream",
     "text": [
      "Enter a number 23\n",
      "Enter a number 32\n",
      "Enter a number 2322\n",
      "Enter a number 4\n"
     ]
    },
    {
     "data": {
      "text/plain": [
       "[4, 23, 32, 2322]"
      ]
     },
     "execution_count": 72,
     "metadata": {},
     "output_type": "execute_result"
    }
   ],
   "source": [
    "inputlist=[]\n",
    "for i in range(4):\n",
    "    num=int(input(\"Enter a number\"))\n",
    "    inputlist.append(num)\n",
    "inputlist.sort()\n",
    "inputlist\n",
    "\n",
    "    \n",
    "    "
   ]
  },
  {
   "cell_type": "markdown",
   "id": "68ec045f-fe59-4e3b-92d5-ae4bcc6ec39c",
   "metadata": {},
   "source": [
    "## Write a program that asks the user for the price of a product and calculates the discount. If the price is greater than 100, give a 20% discount; otherwise, give a 10% discount. Print the discounted price using if-else statements."
   ]
  },
  {
   "cell_type": "code",
   "execution_count": 75,
   "id": "e19c45c9-0200-4d9a-8c02-a0406e50a5f7",
   "metadata": {},
   "outputs": [
    {
     "name": "stdin",
     "output_type": "stream",
     "text": [
      "Enter Price :  23234234\n"
     ]
    },
    {
     "data": {
      "text/plain": [
       "18587387.2"
      ]
     },
     "execution_count": 75,
     "metadata": {},
     "output_type": "execute_result"
    }
   ],
   "source": [
    "price = int(input(\"Enter Price : \"))\n",
    "if (price > 100):\n",
    "    discount = 20\n",
    "else:\n",
    "    discount = 10\n",
    "final_price = price-(price*(discount/100))\n",
    "final_price"
   ]
  },
  {
   "cell_type": "markdown",
   "id": "25226917-1c9a-4d49-bb5a-edd4cae014ad",
   "metadata": {},
   "source": [
    "## Write a Python program that takes a number (1-7) as input from the user, and prints the corresponding day of the week:\n",
    "\n",
    "* 1: Monday\n",
    "* 2: Tuesday\n",
    "* 3: Wednesday\n",
    "* 4: Thursday\n",
    "* 5: Friday\n",
    "* 6: Saturday\n",
    "* 7: Sunday"
   ]
  },
  {
   "cell_type": "code",
   "execution_count": 76,
   "id": "b1062227-64b2-41c5-8db0-1b7aaf0269b8",
   "metadata": {},
   "outputs": [
    {
     "name": "stdin",
     "output_type": "stream",
     "text": [
      "Enter a number (1-7) :  3\n"
     ]
    },
    {
     "name": "stdout",
     "output_type": "stream",
     "text": [
      "Wednesday\n"
     ]
    }
   ],
   "source": [
    "ch = int(input(\"Enter a number (1-7) : \"))\n",
    "if (ch>0 and ch<8):\n",
    "    if (ch == 1):\n",
    "        print(\"Monday\")\n",
    "    elif (ch == 2):\n",
    "        print(\"Tuesday\")\n",
    "    elif (ch == 3):\n",
    "        print(\"Wednesday\")\n",
    "    elif (ch == 4):\n",
    "        print(\"Thursday\")\n",
    "    elif (ch == 5):\n",
    "        print(\"Friday\")\n",
    "    elif (ch == 6):\n",
    "        print(\"Saturday\")\n",
    "    else:\n",
    "        print(\"Sunday\")\n",
    "else:\n",
    "    print(\"Enter between 1 to 7\")"
   ]
  },
  {
   "cell_type": "markdown",
   "id": "81c12b61-6330-49ae-bf1d-bbead6dc1729",
   "metadata": {},
   "source": [
    "## Write a program that asks the user for the weight of a package and calculates the shipping charges based on the following conditions:\n",
    "\n",
    "\n",
    "* If the weight is less than 1kg, the shipping cost is $5.\n",
    "  \n",
    "* If the weight is between 1kg and 5kg, the shipping cost is $10.\n",
    "\n",
    "  \n",
    "* If the weight is between 5kg and 10kg, the shipping cost is $15.\n",
    "\n",
    "  \n",
    "* If the weight is greater than 10kg, the shipping cost is $20."
   ]
  },
  {
   "cell_type": "code",
   "execution_count": 77,
   "id": "69207c42-7e00-4a9d-806c-6167759e75a6",
   "metadata": {},
   "outputs": [
    {
     "name": "stdin",
     "output_type": "stream",
     "text": [
      "Enter Weight Of Pakage :  234\n"
     ]
    },
    {
     "name": "stdout",
     "output_type": "stream",
     "text": [
      "Shipping Cost : 20$\n"
     ]
    }
   ],
   "source": [
    "weight = int(input(\"Enter Weight Of Pakage : \"))\n",
    "if (weight >= 0):\n",
    "    if (weight < 1):\n",
    "        print(\"Shipping Cost : 5$\")\n",
    "    elif (weight >=1 and weight < 5):\n",
    "        print(\"Shipping Cost : 10$\")\n",
    "    elif (weight >=5 and weight <= 10):\n",
    "        print(\"Shipping Cost : 15$\")\n",
    "    else:\n",
    "        print(\"Shipping Cost : 20$\")\n",
    "else:\n",
    "    print(\"Invalid Weight!!!\")"
   ]
  },
  {
   "cell_type": "markdown",
   "id": "f611a172-86d9-4fc8-9032-865be4866ec5",
   "metadata": {},
   "source": [
    "## Write a Python program that asks the user for a single character and checks:\n",
    "\n",
    "* If the character is either a vowel (a, e, i, o, u) or a consonant (any alphabet letter other than a vowel).\n",
    "Print \"Vowel\" if it is a vowel.\n",
    " \n",
    " Print \"Invalid character\" if it is neither."
   ]
  },
  {
   "cell_type": "code",
   "execution_count": 82,
   "id": "85e9e038-4a65-4943-b992-9f5c4e9db3c0",
   "metadata": {},
   "outputs": [
    {
     "name": "stdin",
     "output_type": "stream",
     "text": [
      "enter a single charecter E\n"
     ]
    },
    {
     "name": "stdout",
     "output_type": "stream",
     "text": [
      "You entered a vowel\n"
     ]
    }
   ],
   "source": [
    "char=input(\"enter a single charecter\")\n",
    "vowels=\"aeiou\"\n",
    "if char.lower() in vowels:\n",
    "    print(\"You entered a vowel\")\n",
    "else:\n",
    "    print(\"you entered a consonent\")"
   ]
  },
  {
   "cell_type": "markdown",
   "id": "e96d0352-d6ce-4930-b1c0-0db377f67800",
   "metadata": {},
   "source": [
    "## Write a Python program that asks the student’s grade. The program should check:\n",
    "\n",
    "* If the grade is greater than or equal to 90 and less than or equal to 100, print \"Top 5 Student\".\n",
    "* If the grade is greater than or equal to 80 and less than 90, print \"Top 10 Student\".\n",
    "* Otherwise, print \"Not in Top 10\"."
   ]
  },
  {
   "cell_type": "code",
   "execution_count": null,
   "id": "1fbcd56e-6546-4db1-ae4c-7e0368fda542",
   "metadata": {},
   "outputs": [],
   "source": [
    "num = int(input(\"How many students do you have? : \"))\n",
    "st = []\n",
    "gr_90 = []\n",
    "gr_80 = []\n",
    "for i in range(num):\n",
    "    temp = int(input(f\"Enter {i+1} Student Grade : \"))\n",
    "    st.append(temp)\n",
    "st.sort()\n",
    "for i in range(num):\n",
    "    if (st[i]>=90):\n",
    "        gr_90.append(st[i])\n",
    "    elif (st[i]>=80):\n",
    "        gr_80.append(st[i])\n",
    "print(f\"Greater Than 90 : {gr_90}\")\n",
    "print(f\"Greater Than 80 : {gr_80}\")"
   ]
  },
  {
   "cell_type": "markdown",
   "id": "b935421a-02a1-4aaa-96bf-06aa1fd4ef2e",
   "metadata": {},
   "source": [
    "## Write a Python program that checks if a student passed based on the following conditions:\n",
    "\n",
    "* If the marks are greater than or equal to 50, check\n",
    "  * if the attendance is 75% or more:\n",
    "  \n",
    "  * If attendance is 75% or more, print \"Passed\".\n",
    "\n",
    "  * If attendance is less than 75%, print \"Failed due to low attendance\".\n",
    "* If the marks are less than 50, print \"Failed due to low marks\"."
   ]
  },
  {
   "cell_type": "code",
   "execution_count": null,
   "id": "f30bf6d5-6911-4343-a7b0-c3240cbe5b7c",
   "metadata": {},
   "outputs": [],
   "source": [
    "num = int(input(\"Enter your percentage : \"))\n",
    "per = int(input(\"Enter your attendence : \"))\n",
    "if (num>=50):\n",
    "    if (per>=75):\n",
    "        print(\"Passed\")\n",
    "    else:\n",
    "        print(\"Fail due to low attendance\")\n",
    "else:\n",
    "    print(\"Fail due to low marks\")"
   ]
  },
  {
   "cell_type": "markdown",
   "id": "7a98211b-92fb-447f-a877-0a657a30a1cc",
   "metadata": {},
   "source": [
    "## Write a Python program that checks if a person is eligible for a loan:\n",
    "\n",
    "* If the person’s credit score is above 700, check if their income is above $50,000:\n",
    "    * If true, print \"Loan Approved\".\n",
    "    * If false, print \"Loan Denied due to low income\".\n",
    "* If the credit score is below 700, print \"Loan Denied due to low credit score"
   ]
  },
  {
   "cell_type": "code",
   "execution_count": null,
   "id": "41851db1-51fb-4ccf-8963-fa13caab4abf",
   "metadata": {},
   "outputs": [],
   "source": [
    "credit_sc = int(input(\"Enter Your Credit Score : \"))\n",
    "income = int(input(\"Enter Your Salary : \"))\n",
    "if (credit_sc > 700):\n",
    "    if (income > 50000):\n",
    "        print(\"Loan Approved\")\n",
    "    else:\n",
    "        print(\"Load denied due to low income\")\n",
    "else:\n",
    "    print(\"Loan denied due to low credit score\")"
   ]
  },
  {
   "cell_type": "code",
   "execution_count": null,
   "id": "81404c94-8d00-4a45-af7c-b1f2eda83061",
   "metadata": {},
   "outputs": [],
   "source": []
  }
 ],
 "metadata": {
  "kernelspec": {
   "display_name": "Python 3 (ipykernel)",
   "language": "python",
   "name": "python3"
  },
  "language_info": {
   "codemirror_mode": {
    "name": "ipython",
    "version": 3
   },
   "file_extension": ".py",
   "mimetype": "text/x-python",
   "name": "python",
   "nbconvert_exporter": "python",
   "pygments_lexer": "ipython3",
   "version": "3.12.7"
  }
 },
 "nbformat": 4,
 "nbformat_minor": 5
}
