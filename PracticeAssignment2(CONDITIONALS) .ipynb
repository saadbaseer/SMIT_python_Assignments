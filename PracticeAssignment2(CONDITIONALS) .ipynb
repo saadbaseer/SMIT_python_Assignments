{
 "cells": [
  {
   "cell_type": "raw",
   "metadata": {
    "id": "8rksu2_jMVjQ"
   },
   "source": [
    "1) A company decided to give bonus of 5% to employee if his/her year of service is more than 5 years.\n",
    "Ask user for their salary and year of service and print the net bonus amount."
   ]
  },
  {
   "cell_type": "code",
   "execution_count": 4,
   "metadata": {
    "id": "_GRPHPiLMVjX"
   },
   "outputs": [
    {
     "name": "stdin",
     "output_type": "stream",
     "text": [
      "Enter your service 4\n"
     ]
    },
    {
     "name": "stdout",
     "output_type": "stream",
     "text": [
      "Bonus will not be given\n"
     ]
    }
   ],
   "source": [
    "#Type your code here\n",
    "service=float(input(\"Enter your service\"))\n",
    "years=5\n",
    "if service>years:\n",
    "    print(\"bonus of 5% will be given\")\n",
    "else:\n",
    "    print(\"Bonus will not be given\")\n"
   ]
  },
  {
   "cell_type": "raw",
   "metadata": {
    "id": "iXt5RVcjMVja"
   },
   "source": [
    "2) Write a program to check whether a person is eligible for voting or not.  ask age of the person , if age is more than or equal to 18 then eligible if less than 18 no eligible"
   ]
  },
  {
   "cell_type": "code",
   "execution_count": 9,
   "metadata": {
    "id": "jXVCvia3MVjh"
   },
   "outputs": [
    {
     "name": "stdin",
     "output_type": "stream",
     "text": [
      "Enter your age 44\n"
     ]
    },
    {
     "name": "stdout",
     "output_type": "stream",
     "text": [
      "Eligible for voting\n"
     ]
    }
   ],
   "source": [
    "#Type your code here\n",
    "age=int(input(\"Enter your age\"))\n",
    "if age >=18:\n",
    "    print(\"Eligible for voting\")\n",
    "else:\n",
    "    print(\"Not eligible for voting\")\n",
    "\n"
   ]
  },
  {
   "cell_type": "raw",
   "metadata": {},
   "source": [
    "3) Take values of length and breadth of a rectangle from user and check if it is square or not."
   ]
  },
  {
   "cell_type": "code",
   "execution_count": 11,
   "metadata": {},
   "outputs": [
    {
     "name": "stdin",
     "output_type": "stream",
     "text": [
      "Enter lenght 3\n",
      "Enter breadth 2\n"
     ]
    },
    {
     "name": "stdout",
     "output_type": "stream",
     "text": [
      "Its not a square\n"
     ]
    }
   ],
   "source": [
    "#Type your code here\n",
    "lenght=float(input(\"Enter lenght\"))\n",
    "breadth=float(input(\"Enter breadth\"))\n",
    "if lenght==breadth:\n",
    "    print(\"Its a square\")\n",
    "else:\n",
    "    print(\"Its not a square\")\n",
    "\n"
   ]
  },
  {
   "cell_type": "raw",
   "metadata": {
    "id": "IkNM7QpCMVjj"
   },
   "source": [
    "4) Write a program to check whether a number entered by user is even or odd.\n",
    "\n",
    "Hint: Use modulo operator (%) to check remainder when divideing with 2 , if remainder is 0 even, else odd "
   ]
  },
  {
   "cell_type": "code",
   "execution_count": 16,
   "metadata": {
    "id": "-GxviwByMVjl"
   },
   "outputs": [
    {
     "name": "stdin",
     "output_type": "stream",
     "text": [
      "Enter a number 100\n"
     ]
    },
    {
     "name": "stdout",
     "output_type": "stream",
     "text": [
      "Even number\n"
     ]
    }
   ],
   "source": [
    "#Type your code here\n",
    "num=int(input(\"Enter a number\"))\n",
    "if num%2==0:\n",
    "    print(\"Even number\")\n",
    "else:\n",
    "    print(\"Odd number\")\n",
    "    \n",
    "\n"
   ]
  },
  {
   "cell_type": "raw",
   "metadata": {
    "id": "_jEHjkfdMVjm"
   },
   "source": [
    "5) Write a program to check whether a number is divisible by 7 or not.\n",
    "\n",
    "Hint: Use modulo operator (%) to check remainder when divideing with 7 , if remainder is 0 divisible, else not divisible"
   ]
  },
  {
   "cell_type": "code",
   "execution_count": 20,
   "metadata": {
    "id": "IRNXyG1GMVjo"
   },
   "outputs": [
    {
     "name": "stdin",
     "output_type": "stream",
     "text": [
      "Enter a number 5056\n"
     ]
    },
    {
     "name": "stdout",
     "output_type": "stream",
     "text": [
      "not divisible\n"
     ]
    }
   ],
   "source": [
    "#Type your code here\n",
    "num=int(input(\"Enter a number\"))\n",
    "if num%7==0:\n",
    "    print(\"divisible\")\n",
    "else:\n",
    "    print(\"not divisible\")\n"
   ]
  },
  {
   "cell_type": "raw",
   "metadata": {
    "id": "XxfyVe4kMVjp"
   },
   "source": [
    "6) Write a program to display \n",
    "\"Hello\" if a number entered by user is a multiple of five , otherwise print \"Bye\".\n",
    "Hint : modulo operator"
   ]
  },
  {
   "cell_type": "code",
   "execution_count": 23,
   "metadata": {
    "id": "Ixnz4R4TMVjr"
   },
   "outputs": [
    {
     "name": "stdin",
     "output_type": "stream",
     "text": [
      "Enter a number 55\n"
     ]
    },
    {
     "name": "stdout",
     "output_type": "stream",
     "text": [
      "Hello\n"
     ]
    }
   ],
   "source": [
    "#### Type your code here\n",
    "num=int(input(\"Enter a number\"))\n",
    "if num%5==0:\n",
    "    print(\"Hello\")\n",
    "else:\n",
    "    print(\"Bye\")"
   ]
  },
  {
   "cell_type": "raw",
   "metadata": {
    "id": "qfzRUUwOMVjs"
   },
   "source": [
    "7) Write a program to calculate the electricity bill (accept number of unit from user) \n",
    "according to the following criteria :\n",
    "     Unit                                                     Price  \n",
    "upto 100 units                                              no charge\n",
    "Next 200 units                                              Rs 5 per unit\n",
    "After 300 units                                             Rs 10 per unit\n",
    "(For example if input unit is 350 than total bill amount is Rs.1500\n",
    "(For example if input unit is 97 than total bill amount is Rs.0\n",
    "(For example if input unit is 150 than total bill amount is Rs.250"
   ]
  },
  {
   "cell_type": "code",
   "execution_count": 13,
   "metadata": {
    "id": "1BY1oAIpMVju"
   },
   "outputs": [
    {
     "name": "stdin",
     "output_type": "stream",
     "text": [
      "Enter number of units 150\n"
     ]
    },
    {
     "name": "stdout",
     "output_type": "stream",
     "text": [
      "The totel bill amount is Rs: 750\n"
     ]
    }
   ],
   "source": [
    "#Type your code here\n",
    "units=int(input(\"Enter number of units\"))\n",
    "if units>=0 and units<100 :\n",
    "    bill=units*0\n",
    "elif units>=100 :\n",
    "    bill=units*5\n",
    "elif units>300:\n",
    "    bill=units*10\n",
    "else:\n",
    "    print(\"Enter a valid input\")\n",
    "print(f\"The totel bill amount is Rs: {bill}\")\n",
    "\n",
    "    \n",
    "    "
   ]
  },
  {
   "cell_type": "raw",
   "metadata": {
    "id": "msAIDMRDMVjv"
   },
   "source": [
    "7) Write a program to display the last digit of a number."
   ]
  },
  {
   "cell_type": "code",
   "execution_count": 36,
   "metadata": {
    "id": "VQwLuGzbMVjv"
   },
   "outputs": [
    {
     "name": "stdin",
     "output_type": "stream",
     "text": [
      "Enter a number 345\n"
     ]
    },
    {
     "name": "stdout",
     "output_type": "stream",
     "text": [
      "last digit is 5\n"
     ]
    }
   ],
   "source": [
    "#Type your code here\n",
    "number=input(\"Enter a number\")\n",
    "print(f\"last digit is {number[-1]}\")\n",
    "last_digit=number[-1]\n",
    "\n"
   ]
  },
  {
   "cell_type": "raw",
   "metadata": {
    "id": "UeLHzVZ_MVjw"
   },
   "source": [
    "8) Write a program to check whether the last digit of a number( entered by user ) is \n",
    "divisible by 3 or not."
   ]
  },
  {
   "cell_type": "code",
   "execution_count": 37,
   "metadata": {
    "id": "KiQ5wnc6MVjx"
   },
   "outputs": [
    {
     "name": "stdout",
     "output_type": "stream",
     "text": [
      "Not divisible\n"
     ]
    }
   ],
   "source": [
    "#Type your code here\n",
    "if int(last_digit)%3==0:\n",
    "    print(\"divisible\")\n",
    "else:\n",
    "    print(\"Not divisible\")"
   ]
  },
  {
   "cell_type": "raw",
   "metadata": {
    "id": "B2e5VYbiMVjz"
   },
   "source": [
    "9) Take two int values from user and print greatest among them."
   ]
  },
  {
   "cell_type": "code",
   "execution_count": 38,
   "metadata": {
    "id": "LyYYL78HMVj0"
   },
   "outputs": [
    {
     "name": "stdin",
     "output_type": "stream",
     "text": [
      "Enter First Number :  454\n",
      "Enter Second Number :  3333\n"
     ]
    },
    {
     "name": "stdout",
     "output_type": "stream",
     "text": [
      "3333 Is Greater\n"
     ]
    }
   ],
   "source": [
    "# Type your code here\n",
    "num1 = int(input(\"Enter First Number : \"))\n",
    "num2 = int(input(\"Enter Second Number : \"))\n",
    "if (num1 == num2):\n",
    "    print(\"Both Are Equal\")\n",
    "elif(num1 > num2):\n",
    "    print(f\"{num1} Is Greater\")\n",
    "else:\n",
    "    print(f\"{num2} Is Greater\")"
   ]
  },
  {
   "cell_type": "raw",
   "metadata": {
    "id": "R9gMEjdQMVj1"
   },
   "source": [
    "10) A shop will give discount of 10% if the cost of purchased quantity is more than 1000.\n",
    "Ask user for quantity\n",
    "Suppose, one unit will cost 100.\n",
    "Judge and print total cost for user."
   ]
  },
  {
   "cell_type": "code",
   "execution_count": 3,
   "metadata": {
    "id": "hjvEnOzxMVj2"
   },
   "outputs": [
    {
     "name": "stdin",
     "output_type": "stream",
     "text": [
      "Enter quantity 23235\n"
     ]
    },
    {
     "name": "stdout",
     "output_type": "stream",
     "text": [
      "Your Total Is 2091150.0 After 232350.0 Discount\n"
     ]
    }
   ],
   "source": [
    "#Type your code here\n",
    "qty=int(input(\"Enter quantity\"))\n",
    "total=qty*100\n",
    "if total>1000:\n",
    "    dis_am = (10/100) * total\n",
    "else:\n",
    "    dis_am=total*0\n",
    "print(f\"Your Total Is {total-dis_am} After {dis_am} Discount\")\n",
    "\n",
    "    "
   ]
  },
  {
   "cell_type": "raw",
   "metadata": {
    "id": "yqYL7FZeMVj3"
   },
   "source": [
    "11) A school has following rules for grading system:\n",
    "\n",
    "a. Below 25 - F\n",
    "\n",
    "b. 25 to 45 - E\n",
    "\n",
    "c. 45 to 50 - D\n",
    "\n",
    "d. 50 to 60 - C\n",
    "\n",
    "e. 60 to 80 - B\n",
    "\n",
    "f. Above 80 - A\n",
    "\n",
    "Ask user to enter marks and print the corresponding grade."
   ]
  },
  {
   "cell_type": "code",
   "execution_count": 5,
   "metadata": {
    "id": "he_r-bpOMVj4"
   },
   "outputs": [
    {
     "name": "stdin",
     "output_type": "stream",
     "text": [
      "Enter Your Percentage :  34\n"
     ]
    },
    {
     "name": "stdout",
     "output_type": "stream",
     "text": [
      "You Got E Grade\n"
     ]
    }
   ],
   "source": [
    "#Type your code here\n",
    "per = float(input(\"Enter Your Percentage : \"))\n",
    "if (per>=0 and per<=100):\n",
    "    if(per>=80):\n",
    "        print(\"You Got A Grade\")\n",
    "    elif(per>=60):\n",
    "        print(\"You Got B Grade\")\n",
    "    elif(per>=50):\n",
    "        print(\"You Got C Grade\")\n",
    "    elif(per>=45):\n",
    "        print(\"You Got D Grade\")\n",
    "    elif(per>=25):\n",
    "        print(\"You Got E Grade\")\n",
    "    else:\n",
    "        print(\"You Got F Grade\")\n",
    "else:\n",
    "    print(\"Enter Valid Percentage\")"
   ]
  },
  {
   "cell_type": "raw",
   "metadata": {
    "id": "IUJjt9NbMVj4"
   },
   "source": [
    "12) Take input of age of 3 people by user and determine oldest and youngest among them."
   ]
  },
  {
   "cell_type": "code",
   "execution_count": 10,
   "metadata": {
    "id": "vlre5Ck0MVj4"
   },
   "outputs": [
    {
     "name": "stdin",
     "output_type": "stream",
     "text": [
      "Enter ist person's age  3\n",
      "Enter 2nd person's age 3\n",
      "Enter 3rd person's age 3\n"
     ]
    },
    {
     "name": "stdout",
     "output_type": "stream",
     "text": [
      "3rd person is older\n",
      "3rd person is younger\n"
     ]
    }
   ],
   "source": [
    "#Type your code here\n",
    "person_1=int(input(\"Enter ist person's age \"))\n",
    "person_2=int(input(\"Enter 2nd person's age\"))\n",
    "person_3=int(input(\"Enter 3rd person's age\"))\n",
    "if person_1>person_2 and person_1>person_3:\n",
    "    print(\"1st person is older\")\n",
    "elif person_2>person_1 and person_2>person_3:\n",
    "    print(\"2nd person is older\")\n",
    "else:\n",
    "    print(\"3rd person is older\")\n",
    "\n",
    "if person_1<person_2 and person_1<person_3:\n",
    "    print(\"1st person is younger\")\n",
    "elif person_2<person_1 and person_2<person_3:\n",
    "    print(\"2nd person is younger\")\n",
    "else:\n",
    "    print(\"3rd person is younger\")\n"
   ]
  },
  {
   "cell_type": "raw",
   "metadata": {
    "id": "Zc9ovDhsMVj5"
   },
   "source": [
    "13)A student will not be allowed to sit in exam if his/her attendence is less than 75%.\n",
    "\n",
    "Take following input from user\n",
    "\n",
    "Number of classes held\n",
    "\n",
    "Number of classes attended.\n",
    "\n",
    "And print\n",
    "\n",
    "percentage of class attended\n",
    "\n",
    "Is student is allowed to sit in exam or not.\n"
   ]
  },
  {
   "cell_type": "code",
   "execution_count": 16,
   "metadata": {
    "id": "rseYum2_MVj6"
   },
   "outputs": [
    {
     "name": "stdin",
     "output_type": "stream",
     "text": [
      "Enter number of classes held  10\n",
      "Enter number of classes attended  8\n"
     ]
    },
    {
     "name": "stdout",
     "output_type": "stream",
     "text": [
      "you are allowed your percentage of classes is 80.0\n"
     ]
    }
   ],
   "source": [
    "#Type your code here\n",
    "classes_held=int(input(\"Enter number of classes held \"))\n",
    "classes_attended=int(input(\"Enter number of classes attended \"))\n",
    "per=(classes_attended/classes_held)*100\n",
    "if per<75:\n",
    "    print(f\"you are not allowed your percentage of classes held is {per}\") \n",
    "else:\n",
    "    print(f\"you are allowed your percentage of classes is {per}\")\n",
    "\n"
   ]
  },
  {
   "cell_type": "raw",
   "metadata": {
    "id": "58UPPHAOMVj6"
   },
   "source": [
    "14) Modify the above question to allow student to sit if he/she has medical cause. Ask user if he/she has medical cause or not ( 'Y' or 'N' ) and print accordingly."
   ]
  },
  {
   "cell_type": "code",
   "execution_count": 41,
   "metadata": {
    "id": "lDi-xLzTMVj7"
   },
   "outputs": [
    {
     "name": "stdin",
     "output_type": "stream",
     "text": [
      "if have any medical cause enter 'Y' if not then enter 'N' n\n",
      "Enter number of classes held  32\n",
      "Enter number of classes attended  44\n"
     ]
    },
    {
     "name": "stdout",
     "output_type": "stream",
     "text": [
      "attended classes cannot be more then total held classes\n"
     ]
    }
   ],
   "source": [
    "#Type your code here\n",
    "check=input(\"if have any medical cause enter 'Y' if not then enter 'N'\")\n",
    "if check.lower()==\"n\":\n",
    "    classes_held=int(input(\"Enter number of classes held \"))\n",
    "    classes_attended=int(input(\"Enter number of classes attended \"))\n",
    "    per=(classes_attended/classes_held)*100\n",
    "    \n",
    "    if per<75:\n",
    "        print(f\"you are not allowed your percentage of classes held is {per}\") \n",
    "    elif per>100:\n",
    "        print(\"attended classes cannot be more then total held classes\")\n",
    "    else:\n",
    "        print(f\"you are  allowed your percentage of classes held is {per}\") \n",
    "elif check.lower()==\"y\":\n",
    "    print(\"medical cause you are not allowed\")\n",
    "else:\n",
    "    print(\"Enter only 'Y' or 'N'\")\n"
   ]
  },
  {
   "cell_type": "raw",
   "metadata": {
    "id": "kJtSy1EoMVj7"
   },
   "source": [
    "15) Write a program to check if a year is leap year or not.\n",
    "\n",
    "If a year is divisible by 4 then it is leap year but if the year is century year like 2000, 1900, 2100 then it must be divisible by 400."
   ]
  },
  {
   "cell_type": "code",
   "execution_count": 52,
   "metadata": {
    "id": "QUL_YUX3MVj7"
   },
   "outputs": [
    {
     "name": "stdin",
     "output_type": "stream",
     "text": [
      "Enter the year 2000\n"
     ]
    },
    {
     "name": "stdout",
     "output_type": "stream",
     "text": [
      "Leap year\n"
     ]
    }
   ],
   "source": [
    "#Type your code here\n",
    "year=int(input(\"Enter the year\"))\n",
    "if year%4==0 or year%400==0:\n",
    "    print(\"Leap year\")\n",
    "else:\n",
    "    print(\"not a Leap year\")\n",
    "    \n"
   ]
  },
  {
   "cell_type": "raw",
   "metadata": {
    "id": "CCNg4yDDMVj8"
   },
   "source": [
    "16) Ask user to enter age, gender ( M or F ), marital status ( Y or N ) and then using following rules print their place of service.\n",
    "\n",
    "if employee is female, then she will work only in urban areas.\n",
    "\n",
    "if employee is a male and age is in between 20 to 40 then he may work in anywhere\n",
    "\n",
    "if employee is male and age is in between 40 t0 60 then he will work in urban areas only.\n",
    "\n",
    "And any other input of age should print \"ERROR\""
   ]
  },
  {
   "cell_type": "code",
   "execution_count": null,
   "metadata": {
    "id": "RDWMB0CZMVj8"
   },
   "outputs": [],
   "source": [
    "#Type your code here"
   ]
  },
  {
   "cell_type": "code",
   "execution_count": 9,
   "metadata": {},
   "outputs": [
    {
     "name": "stdout",
     "output_type": "stream",
     "text": [
      "Enter your age45\n",
      "<class 'int'>\n",
      "35\n"
     ]
    }
   ],
   "source": [
    "salman_age = int(input(\"Enter your age\"))\n",
    "print(type(salman_age))\n",
    "print(salman_age-10)"
   ]
  },
  {
   "cell_type": "code",
   "execution_count": 3,
   "metadata": {},
   "outputs": [
    {
     "data": {
      "text/plain": [
       "40"
      ]
     },
     "execution_count": 3,
     "metadata": {},
     "output_type": "execute_result"
    }
   ],
   "source": [
    "salman_age"
   ]
  },
  {
   "cell_type": "code",
   "execution_count": null,
   "metadata": {},
   "outputs": [],
   "source": []
  }
 ],
 "metadata": {
  "colab": {
   "name": "If then Else &Elif Practice Task .ipynb",
   "provenance": []
  },
  "kernelspec": {
   "display_name": "Python 3 (ipykernel)",
   "language": "python",
   "name": "python3"
  },
  "language_info": {
   "codemirror_mode": {
    "name": "ipython",
    "version": 3
   },
   "file_extension": ".py",
   "mimetype": "text/x-python",
   "name": "python",
   "nbconvert_exporter": "python",
   "pygments_lexer": "ipython3",
   "version": "3.12.7"
  }
 },
 "nbformat": 4,
 "nbformat_minor": 4
}
